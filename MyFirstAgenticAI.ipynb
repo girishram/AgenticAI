{
  "nbformat": 4,
  "nbformat_minor": 0,
  "metadata": {
    "colab": {
      "provenance": [],
      "authorship_tag": "ABX9TyOnSI/vho7Ywi3SdNamXyPX",
      "include_colab_link": true
    },
    "kernelspec": {
      "name": "python3",
      "display_name": "Python 3"
    },
    "language_info": {
      "name": "python"
    }
  },
  "cells": [
    {
      "cell_type": "markdown",
      "metadata": {
        "id": "view-in-github",
        "colab_type": "text"
      },
      "source": [
        "<a href=\"https://colab.research.google.com/github/girishram/AgenticAI/blob/main/MyFirstAgenticAI.ipynb\" target=\"_parent\"><img src=\"https://colab.research.google.com/assets/colab-badge.svg\" alt=\"Open In Colab\"/></a>"
      ]
    },
    {
      "cell_type": "code",
      "execution_count": 4,
      "metadata": {
        "id": "JHo5zxcWQiH5"
      },
      "outputs": [],
      "source": [
        "!!pip install litellm\n",
        "\n",
        "# Important!!!\n",
        "#\n",
        "# <---- Set your 'OPENAI_API_KEY' as a secret over there with the \"key\" icon\n",
        "#\n",
        "#\n",
        "import os\n",
        "from google.colab import userdata\n",
        "api_key = userdata.get('OPENAI_API_KEY')\n",
        "os.environ['OPENAI_API_KEY'] = api_key\n"
      ]
    },
    {
      "cell_type": "code",
      "source": [
        "from litellm import completion\n",
        "from typing import List, Dict\n",
        "\n",
        "\n",
        "def generate_response(messages: List[Dict]) -> str:\n",
        "    \"\"\"Call LLM to get response\"\"\"\n",
        "    response = completion(\n",
        "        model=\"openai/gpt-4o\",\n",
        "        messages=messages,\n",
        "        max_tokens=1024\n",
        "    )\n",
        "    return response.choices[0].message.content\n",
        "\n",
        "\n",
        "messages = [\n",
        "    {\"role\": \"system\", \"content\": \"You are an expert software engineer that prefers functional programming.\"},\n",
        "    {\"role\": \"user\", \"content\": \"Write a function to swap the keys and values in a dictionary.\"}\n",
        "]\n",
        "\n",
        "response = generate_response(messages)\n",
        "print(response)"
      ],
      "metadata": {
        "colab": {
          "base_uri": "https://localhost:8080/"
        },
        "id": "_7za-dvrSpb9",
        "outputId": "84a908cf-2dfd-4886-b0ad-20459c222dc0"
      },
      "execution_count": 6,
      "outputs": [
        {
          "output_type": "stream",
          "name": "stdout",
          "text": [
            "Certainly! In functional programming, we often use expressions and transformations instead of relying on imperative constructs like loops. We'll create a function that swaps the keys and values of a dictionary using Python's functional capabilities. One approach is to use dictionary comprehensions combined with the `items()` method to achieve this transformation in a clear and concise manner.\n",
            "\n",
            "Here's how you can implement such a function:\n",
            "\n",
            "```python\n",
            "def swap_keys_values(d):\n",
            "    # Using a dictionary comprehension to swap keys and values\n",
            "    return {v: k for k, v in d.items()}\n",
            "\n",
            "# Example usage:\n",
            "original_dict = {'a': 1, 'b': 2, 'c': 3}\n",
            "swapped_dict = swap_keys_values(original_dict)\n",
            "print(swapped_dict)  # Output: {1: 'a', 2: 'b', 3: 'c'}\n",
            "```\n",
            "\n",
            "### Considerations:\n",
            "- **Uniqueness**: This function assumes that all the values in the original dictionary are unique because they will be used as keys in the resulting dictionary. If there are duplicate values, some data will be lost.\n",
            "- **Immutability**: While the resulting dictionary is a new object in memory, the original dictionary remains unchanged, which aligns well with functional programming principles.\n",
            "\n",
            "You can use and adapt this function to swap keys and values in dictionaries where the above constraints are met.\n"
          ]
        }
      ]
    }
  ]
}